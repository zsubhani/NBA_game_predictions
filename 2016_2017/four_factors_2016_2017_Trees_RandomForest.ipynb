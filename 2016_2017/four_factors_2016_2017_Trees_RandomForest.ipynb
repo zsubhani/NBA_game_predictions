{
 "cells": [
  {
   "cell_type": "code",
   "execution_count": 1,
   "metadata": {},
   "outputs": [],
   "source": [
    "from sklearn import tree\n",
    "import pandas as pd\n",
    "import os"
   ]
  },
  {
   "cell_type": "code",
   "execution_count": 2,
   "metadata": {},
   "outputs": [
    {
     "data": {
      "text/html": [
       "<div>\n",
       "<style scoped>\n",
       "    .dataframe tbody tr th:only-of-type {\n",
       "        vertical-align: middle;\n",
       "    }\n",
       "\n",
       "    .dataframe tbody tr th {\n",
       "        vertical-align: top;\n",
       "    }\n",
       "\n",
       "    .dataframe thead th {\n",
       "        text-align: right;\n",
       "    }\n",
       "</style>\n",
       "<table border=\"1\" class=\"dataframe\">\n",
       "  <thead>\n",
       "    <tr style=\"text-align: right;\">\n",
       "      <th></th>\n",
       "      <th>gmDate</th>\n",
       "      <th>gmTime</th>\n",
       "      <th>seasTyp</th>\n",
       "      <th>offLNm1</th>\n",
       "      <th>offFNm1</th>\n",
       "      <th>offLNm2</th>\n",
       "      <th>offFNm2</th>\n",
       "      <th>offLNm3</th>\n",
       "      <th>offFNm3</th>\n",
       "      <th>teamAbbr</th>\n",
       "      <th>...</th>\n",
       "      <th>opptEDiff</th>\n",
       "      <th>opptPlay%</th>\n",
       "      <th>opptAR</th>\n",
       "      <th>opptAST/TO</th>\n",
       "      <th>opptSTL/TO</th>\n",
       "      <th>poss</th>\n",
       "      <th>pace</th>\n",
       "      <th>teamFTF</th>\n",
       "      <th>opptFTF</th>\n",
       "      <th>outcome</th>\n",
       "    </tr>\n",
       "  </thead>\n",
       "  <tbody>\n",
       "    <tr>\n",
       "      <th>0</th>\n",
       "      <td>10/25/2016</td>\n",
       "      <td>8:00</td>\n",
       "      <td>Regular</td>\n",
       "      <td>Lane</td>\n",
       "      <td>Karl</td>\n",
       "      <td>Adams</td>\n",
       "      <td>Bennie</td>\n",
       "      <td>Kennedy</td>\n",
       "      <td>Bill</td>\n",
       "      <td>NY</td>\n",
       "      <td>...</td>\n",
       "      <td>28.8922</td>\n",
       "      <td>0.4592</td>\n",
       "      <td>20.8951</td>\n",
       "      <td>2.0667</td>\n",
       "      <td>80.0000</td>\n",
       "      <td>100.3729</td>\n",
       "      <td>100.3729</td>\n",
       "      <td>0.229885</td>\n",
       "      <td>0.202128</td>\n",
       "      <td>0</td>\n",
       "    </tr>\n",
       "    <tr>\n",
       "      <th>1</th>\n",
       "      <td>10/25/2016</td>\n",
       "      <td>8:00</td>\n",
       "      <td>Regular</td>\n",
       "      <td>Lane</td>\n",
       "      <td>Karl</td>\n",
       "      <td>Adams</td>\n",
       "      <td>Bennie</td>\n",
       "      <td>Kennedy</td>\n",
       "      <td>Bill</td>\n",
       "      <td>CLE</td>\n",
       "      <td>...</td>\n",
       "      <td>-28.8922</td>\n",
       "      <td>0.3478</td>\n",
       "      <td>12.9969</td>\n",
       "      <td>0.9444</td>\n",
       "      <td>33.3333</td>\n",
       "      <td>100.3729</td>\n",
       "      <td>99.9564</td>\n",
       "      <td>0.202128</td>\n",
       "      <td>0.229885</td>\n",
       "      <td>1</td>\n",
       "    </tr>\n",
       "    <tr>\n",
       "      <th>2</th>\n",
       "      <td>10/25/2016</td>\n",
       "      <td>10:00</td>\n",
       "      <td>Regular</td>\n",
       "      <td>Buchert</td>\n",
       "      <td>Nick</td>\n",
       "      <td>Callahan</td>\n",
       "      <td>Mike</td>\n",
       "      <td>Brown</td>\n",
       "      <td>Tony</td>\n",
       "      <td>UTA</td>\n",
       "      <td>...</td>\n",
       "      <td>9.7257</td>\n",
       "      <td>0.4699</td>\n",
       "      <td>18.3824</td>\n",
       "      <td>1.6923</td>\n",
       "      <td>38.4615</td>\n",
       "      <td>92.5380</td>\n",
       "      <td>92.1540</td>\n",
       "      <td>0.195122</td>\n",
       "      <td>0.293333</td>\n",
       "      <td>0</td>\n",
       "    </tr>\n",
       "    <tr>\n",
       "      <th>3</th>\n",
       "      <td>10/25/2016</td>\n",
       "      <td>10:00</td>\n",
       "      <td>Regular</td>\n",
       "      <td>Buchert</td>\n",
       "      <td>Nick</td>\n",
       "      <td>Callahan</td>\n",
       "      <td>Mike</td>\n",
       "      <td>Brown</td>\n",
       "      <td>Tony</td>\n",
       "      <td>POR</td>\n",
       "      <td>...</td>\n",
       "      <td>-9.7257</td>\n",
       "      <td>0.4444</td>\n",
       "      <td>15.5687</td>\n",
       "      <td>1.3571</td>\n",
       "      <td>64.2857</td>\n",
       "      <td>92.5380</td>\n",
       "      <td>92.9252</td>\n",
       "      <td>0.293333</td>\n",
       "      <td>0.195122</td>\n",
       "      <td>1</td>\n",
       "    </tr>\n",
       "    <tr>\n",
       "      <th>4</th>\n",
       "      <td>10/25/2016</td>\n",
       "      <td>10:30</td>\n",
       "      <td>Regular</td>\n",
       "      <td>Maddox</td>\n",
       "      <td>Tre</td>\n",
       "      <td>Fraher</td>\n",
       "      <td>Pat</td>\n",
       "      <td>Crawford</td>\n",
       "      <td>Dan</td>\n",
       "      <td>SA</td>\n",
       "      <td>...</td>\n",
       "      <td>-29.3592</td>\n",
       "      <td>0.4301</td>\n",
       "      <td>18.0560</td>\n",
       "      <td>1.5000</td>\n",
       "      <td>68.7500</td>\n",
       "      <td>98.7765</td>\n",
       "      <td>98.7765</td>\n",
       "      <td>0.265306</td>\n",
       "      <td>0.211765</td>\n",
       "      <td>1</td>\n",
       "    </tr>\n",
       "  </tbody>\n",
       "</table>\n",
       "<p>5 rows × 126 columns</p>\n",
       "</div>"
      ],
      "text/plain": [
       "       gmDate gmTime  seasTyp  offLNm1 offFNm1   offLNm2 offFNm2   offLNm3  \\\n",
       "0  10/25/2016   8:00  Regular     Lane    Karl     Adams  Bennie   Kennedy   \n",
       "1  10/25/2016   8:00  Regular     Lane    Karl     Adams  Bennie   Kennedy   \n",
       "2  10/25/2016  10:00  Regular  Buchert    Nick  Callahan    Mike     Brown   \n",
       "3  10/25/2016  10:00  Regular  Buchert    Nick  Callahan    Mike     Brown   \n",
       "4  10/25/2016  10:30  Regular   Maddox     Tre    Fraher     Pat  Crawford   \n",
       "\n",
       "  offFNm3 teamAbbr   ...    opptEDiff opptPlay%   opptAR opptAST/TO  \\\n",
       "0    Bill       NY   ...      28.8922    0.4592  20.8951     2.0667   \n",
       "1    Bill      CLE   ...     -28.8922    0.3478  12.9969     0.9444   \n",
       "2    Tony      UTA   ...       9.7257    0.4699  18.3824     1.6923   \n",
       "3    Tony      POR   ...      -9.7257    0.4444  15.5687     1.3571   \n",
       "4     Dan       SA   ...     -29.3592    0.4301  18.0560     1.5000   \n",
       "\n",
       "   opptSTL/TO      poss      pace   teamFTF   opptFTF  outcome  \n",
       "0     80.0000  100.3729  100.3729  0.229885  0.202128        0  \n",
       "1     33.3333  100.3729   99.9564  0.202128  0.229885        1  \n",
       "2     38.4615   92.5380   92.1540  0.195122  0.293333        0  \n",
       "3     64.2857   92.5380   92.9252  0.293333  0.195122        1  \n",
       "4     68.7500   98.7765   98.7765  0.265306  0.211765        1  \n",
       "\n",
       "[5 rows x 126 columns]"
      ]
     },
     "execution_count": 2,
     "metadata": {},
     "output_type": "execute_result"
    }
   ],
   "source": [
    "df = pd.read_csv('2016-17_teamBoxScore_outcome_col_added.csv')\n",
    "df.head()"
   ]
  },
  {
   "cell_type": "code",
   "execution_count": 3,
   "metadata": {},
   "outputs": [],
   "source": [
    "target = df[\"outcome\"]\n",
    "target_names = [\"loss\", \"win\"]"
   ]
  },
  {
   "cell_type": "code",
   "execution_count": 4,
   "metadata": {},
   "outputs": [
    {
     "data": {
      "text/html": [
       "<div>\n",
       "<style scoped>\n",
       "    .dataframe tbody tr th:only-of-type {\n",
       "        vertical-align: middle;\n",
       "    }\n",
       "\n",
       "    .dataframe tbody tr th {\n",
       "        vertical-align: top;\n",
       "    }\n",
       "\n",
       "    .dataframe thead th {\n",
       "        text-align: right;\n",
       "    }\n",
       "</style>\n",
       "<table border=\"1\" class=\"dataframe\">\n",
       "  <thead>\n",
       "    <tr style=\"text-align: right;\">\n",
       "      <th></th>\n",
       "      <th>teamEFG%</th>\n",
       "      <th>opptEFG%</th>\n",
       "      <th>teamTO%</th>\n",
       "      <th>opptTO%</th>\n",
       "      <th>teamOREB%</th>\n",
       "      <th>teamDREB%</th>\n",
       "      <th>teamFTF</th>\n",
       "      <th>opptFTF</th>\n",
       "      <th>outcome</th>\n",
       "    </tr>\n",
       "  </thead>\n",
       "  <tbody>\n",
       "    <tr>\n",
       "      <th>0</th>\n",
       "      <td>0.4195</td>\n",
       "      <td>0.5479</td>\n",
       "      <td>15.8172</td>\n",
       "      <td>12.7812</td>\n",
       "      <td>24.5283</td>\n",
       "      <td>72.5000</td>\n",
       "      <td>0.229885</td>\n",
       "      <td>0.202128</td>\n",
       "      <td>0</td>\n",
       "    </tr>\n",
       "    <tr>\n",
       "      <th>1</th>\n",
       "      <td>0.5479</td>\n",
       "      <td>0.4195</td>\n",
       "      <td>12.7812</td>\n",
       "      <td>15.8172</td>\n",
       "      <td>27.5000</td>\n",
       "      <td>75.4717</td>\n",
       "      <td>0.202128</td>\n",
       "      <td>0.229885</td>\n",
       "      <td>1</td>\n",
       "    </tr>\n",
       "    <tr>\n",
       "      <th>2</th>\n",
       "      <td>0.5366</td>\n",
       "      <td>0.6067</td>\n",
       "      <td>13.5870</td>\n",
       "      <td>13.3088</td>\n",
       "      <td>17.1429</td>\n",
       "      <td>83.3333</td>\n",
       "      <td>0.195122</td>\n",
       "      <td>0.293333</td>\n",
       "      <td>0</td>\n",
       "    </tr>\n",
       "    <tr>\n",
       "      <th>3</th>\n",
       "      <td>0.6067</td>\n",
       "      <td>0.5366</td>\n",
       "      <td>13.3088</td>\n",
       "      <td>13.5870</td>\n",
       "      <td>16.6667</td>\n",
       "      <td>82.8571</td>\n",
       "      <td>0.293333</td>\n",
       "      <td>0.195122</td>\n",
       "      <td>1</td>\n",
       "    </tr>\n",
       "    <tr>\n",
       "      <th>4</th>\n",
       "      <td>0.5408</td>\n",
       "      <td>0.5118</td>\n",
       "      <td>11.3415</td>\n",
       "      <td>14.6897</td>\n",
       "      <td>43.7500</td>\n",
       "      <td>80.9524</td>\n",
       "      <td>0.265306</td>\n",
       "      <td>0.211765</td>\n",
       "      <td>1</td>\n",
       "    </tr>\n",
       "  </tbody>\n",
       "</table>\n",
       "</div>"
      ],
      "text/plain": [
       "   teamEFG%  opptEFG%  teamTO%  opptTO%  teamOREB%  teamDREB%   teamFTF  \\\n",
       "0    0.4195    0.5479  15.8172  12.7812    24.5283    72.5000  0.229885   \n",
       "1    0.5479    0.4195  12.7812  15.8172    27.5000    75.4717  0.202128   \n",
       "2    0.5366    0.6067  13.5870  13.3088    17.1429    83.3333  0.195122   \n",
       "3    0.6067    0.5366  13.3088  13.5870    16.6667    82.8571  0.293333   \n",
       "4    0.5408    0.5118  11.3415  14.6897    43.7500    80.9524  0.265306   \n",
       "\n",
       "    opptFTF  outcome  \n",
       "0  0.202128        0  \n",
       "1  0.229885        1  \n",
       "2  0.293333        0  \n",
       "3  0.195122        1  \n",
       "4  0.211765        1  "
      ]
     },
     "execution_count": 4,
     "metadata": {},
     "output_type": "execute_result"
    }
   ],
   "source": [
    "df1 = df[['teamEFG%','opptEFG%', 'teamTO%', 'opptTO%', 'teamOREB%', 'teamDREB%', 'teamFTF', 'opptFTF', 'outcome']]\n",
    "df1.head()"
   ]
  },
  {
   "cell_type": "code",
   "execution_count": 5,
   "metadata": {},
   "outputs": [
    {
     "data": {
      "text/html": [
       "<div>\n",
       "<style scoped>\n",
       "    .dataframe tbody tr th:only-of-type {\n",
       "        vertical-align: middle;\n",
       "    }\n",
       "\n",
       "    .dataframe tbody tr th {\n",
       "        vertical-align: top;\n",
       "    }\n",
       "\n",
       "    .dataframe thead th {\n",
       "        text-align: right;\n",
       "    }\n",
       "</style>\n",
       "<table border=\"1\" class=\"dataframe\">\n",
       "  <thead>\n",
       "    <tr style=\"text-align: right;\">\n",
       "      <th></th>\n",
       "      <th>teamEFG%</th>\n",
       "      <th>opptEFG%</th>\n",
       "      <th>teamTO%</th>\n",
       "      <th>opptTO%</th>\n",
       "      <th>teamOREB%</th>\n",
       "      <th>teamDREB%</th>\n",
       "      <th>teamFTF</th>\n",
       "      <th>opptFTF</th>\n",
       "    </tr>\n",
       "  </thead>\n",
       "  <tbody>\n",
       "    <tr>\n",
       "      <th>0</th>\n",
       "      <td>0.4195</td>\n",
       "      <td>0.5479</td>\n",
       "      <td>15.8172</td>\n",
       "      <td>12.7812</td>\n",
       "      <td>24.5283</td>\n",
       "      <td>72.5000</td>\n",
       "      <td>0.229885</td>\n",
       "      <td>0.202128</td>\n",
       "    </tr>\n",
       "    <tr>\n",
       "      <th>1</th>\n",
       "      <td>0.5479</td>\n",
       "      <td>0.4195</td>\n",
       "      <td>12.7812</td>\n",
       "      <td>15.8172</td>\n",
       "      <td>27.5000</td>\n",
       "      <td>75.4717</td>\n",
       "      <td>0.202128</td>\n",
       "      <td>0.229885</td>\n",
       "    </tr>\n",
       "    <tr>\n",
       "      <th>2</th>\n",
       "      <td>0.5366</td>\n",
       "      <td>0.6067</td>\n",
       "      <td>13.5870</td>\n",
       "      <td>13.3088</td>\n",
       "      <td>17.1429</td>\n",
       "      <td>83.3333</td>\n",
       "      <td>0.195122</td>\n",
       "      <td>0.293333</td>\n",
       "    </tr>\n",
       "    <tr>\n",
       "      <th>3</th>\n",
       "      <td>0.6067</td>\n",
       "      <td>0.5366</td>\n",
       "      <td>13.3088</td>\n",
       "      <td>13.5870</td>\n",
       "      <td>16.6667</td>\n",
       "      <td>82.8571</td>\n",
       "      <td>0.293333</td>\n",
       "      <td>0.195122</td>\n",
       "    </tr>\n",
       "    <tr>\n",
       "      <th>4</th>\n",
       "      <td>0.5408</td>\n",
       "      <td>0.5118</td>\n",
       "      <td>11.3415</td>\n",
       "      <td>14.6897</td>\n",
       "      <td>43.7500</td>\n",
       "      <td>80.9524</td>\n",
       "      <td>0.265306</td>\n",
       "      <td>0.211765</td>\n",
       "    </tr>\n",
       "  </tbody>\n",
       "</table>\n",
       "</div>"
      ],
      "text/plain": [
       "   teamEFG%  opptEFG%  teamTO%  opptTO%  teamOREB%  teamDREB%   teamFTF  \\\n",
       "0    0.4195    0.5479  15.8172  12.7812    24.5283    72.5000  0.229885   \n",
       "1    0.5479    0.4195  12.7812  15.8172    27.5000    75.4717  0.202128   \n",
       "2    0.5366    0.6067  13.5870  13.3088    17.1429    83.3333  0.195122   \n",
       "3    0.6067    0.5366  13.3088  13.5870    16.6667    82.8571  0.293333   \n",
       "4    0.5408    0.5118  11.3415  14.6897    43.7500    80.9524  0.265306   \n",
       "\n",
       "    opptFTF  \n",
       "0  0.202128  \n",
       "1  0.229885  \n",
       "2  0.293333  \n",
       "3  0.195122  \n",
       "4  0.211765  "
      ]
     },
     "execution_count": 5,
     "metadata": {},
     "output_type": "execute_result"
    }
   ],
   "source": [
    "data = df1.drop(\"outcome\", axis=1)\n",
    "feature_names = data.columns\n",
    "data.head()"
   ]
  },
  {
   "cell_type": "code",
   "execution_count": 6,
   "metadata": {},
   "outputs": [],
   "source": [
    "from sklearn.model_selection import train_test_split\n",
    "X_train, X_test, y_train, y_test = train_test_split(data, target, random_state=42)"
   ]
  },
  {
   "cell_type": "code",
   "execution_count": 7,
   "metadata": {},
   "outputs": [
    {
     "data": {
      "text/plain": [
       "0.7934959349593496"
      ]
     },
     "execution_count": 7,
     "metadata": {},
     "output_type": "execute_result"
    }
   ],
   "source": [
    "clf = tree.DecisionTreeClassifier()\n",
    "clf = clf.fit(X_train, y_train)\n",
    "clf.score(X_test, y_test)"
   ]
  },
  {
   "cell_type": "code",
   "execution_count": 10,
   "metadata": {},
   "outputs": [
    {
     "data": {
      "text/plain": [
       "0.8894308943089431"
      ]
     },
     "execution_count": 10,
     "metadata": {},
     "output_type": "execute_result"
    }
   ],
   "source": [
    "# try with n_estimators=200\n",
    "\n",
    "from sklearn.ensemble import RandomForestClassifier\n",
    "rf = RandomForestClassifier(n_estimators=200)\n",
    "rf = rf.fit(X_train, y_train)\n",
    "rf.score(X_test, y_test)"
   ]
  },
  {
   "cell_type": "code",
   "execution_count": 11,
   "metadata": {},
   "outputs": [
    {
     "data": {
      "text/plain": [
       "[(0.2811785186731735, 'opptEFG%'),\n",
       " (0.2743169714305054, 'teamEFG%'),\n",
       " (0.08547871614783821, 'teamTO%'),\n",
       " (0.08316533773375703, 'opptTO%'),\n",
       " (0.07375918431523028, 'opptFTF'),\n",
       " (0.06881557639838609, 'teamOREB%'),\n",
       " (0.06665869078794558, 'teamFTF'),\n",
       " (0.06662700451316436, 'teamDREB%')]"
      ]
     },
     "execution_count": 11,
     "metadata": {},
     "output_type": "execute_result"
    }
   ],
   "source": [
    "sorted(zip(rf.feature_importances_, feature_names), reverse=True)"
   ]
  },
  {
   "cell_type": "code",
   "execution_count": 12,
   "metadata": {},
   "outputs": [
    {
     "data": {
      "text/plain": [
       "0.8829268292682927"
      ]
     },
     "execution_count": 12,
     "metadata": {},
     "output_type": "execute_result"
    }
   ],
   "source": [
    "# try with n_estimators=500\n",
    "\n",
    "from sklearn.ensemble import RandomForestClassifier\n",
    "rf = RandomForestClassifier(n_estimators=500)\n",
    "rf = rf.fit(X_train, y_train)\n",
    "rf.score(X_test, y_test)"
   ]
  },
  {
   "cell_type": "code",
   "execution_count": 13,
   "metadata": {},
   "outputs": [
    {
     "data": {
      "text/plain": [
       "0.8926829268292683"
      ]
     },
     "execution_count": 13,
     "metadata": {},
     "output_type": "execute_result"
    }
   ],
   "source": [
    "# try with n_estimators=1000\n",
    "\n",
    "from sklearn.ensemble import RandomForestClassifier\n",
    "rf = RandomForestClassifier(n_estimators=1000)\n",
    "rf = rf.fit(X_train, y_train)\n",
    "rf.score(X_test, y_test)"
   ]
  },
  {
   "cell_type": "code",
   "execution_count": null,
   "metadata": {},
   "outputs": [],
   "source": []
  }
 ],
 "metadata": {
  "kernelspec": {
   "display_name": "PythonData",
   "language": "python",
   "name": "pythondata"
  },
  "language_info": {
   "codemirror_mode": {
    "name": "ipython",
    "version": 3
   },
   "file_extension": ".py",
   "mimetype": "text/x-python",
   "name": "python",
   "nbconvert_exporter": "python",
   "pygments_lexer": "ipython3",
   "version": "3.6.5"
  }
 },
 "nbformat": 4,
 "nbformat_minor": 2
}
